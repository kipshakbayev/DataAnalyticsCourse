{
 "cells": [
  {
   "cell_type": "code",
   "execution_count": 3,
   "id": "d7112217",
   "metadata": {},
   "outputs": [],
   "source": [
    "import numpy as np"
   ]
  },
  {
   "cell_type": "code",
   "execution_count": 6,
   "id": "9f5a4cb8",
   "metadata": {},
   "outputs": [
    {
     "name": "stdout",
     "output_type": "stream",
     "text": [
      "[10 11 12 13 14 15 16 17 18 19 20]\n"
     ]
    }
   ],
   "source": [
    "#1\n",
    "\n",
    "x = np.arange(10,21)\n",
    "print(x)"
   ]
  },
  {
   "cell_type": "code",
   "execution_count": 10,
   "id": "4edceb3e",
   "metadata": {},
   "outputs": [
    {
     "name": "stdout",
     "output_type": "stream",
     "text": [
      "[20 19 18 17 16 15 14 13 12 11 10]\n"
     ]
    }
   ],
   "source": [
    "#2\n",
    "\n",
    "x_flip = np.flip(x) \n",
    "print(x_flip)"
   ]
  },
  {
   "cell_type": "code",
   "execution_count": 94,
   "id": "195690e9",
   "metadata": {},
   "outputs": [
    {
     "name": "stdout",
     "output_type": "stream",
     "text": [
      "[[0 1]\n",
      " [2 3]]\n"
     ]
    }
   ],
   "source": [
    "#3\n",
    "\n",
    "y = np.arange(4).reshape((2,2))\n",
    "print(y)"
   ]
  },
  {
   "cell_type": "code",
   "execution_count": 2,
   "id": "409d9703",
   "metadata": {},
   "outputs": [
    {
     "ename": "NameError",
     "evalue": "name 'np' is not defined",
     "output_type": "error",
     "traceback": [
      "\u001b[1;31m---------------------------------------------------------------------------\u001b[0m",
      "\u001b[1;31mNameError\u001b[0m                                 Traceback (most recent call last)",
      "Input \u001b[1;32mIn [2]\u001b[0m, in \u001b[0;36m<cell line: 3>\u001b[1;34m()\u001b[0m\n\u001b[0;32m      1\u001b[0m \u001b[38;5;66;03m#4\u001b[39;00m\n\u001b[1;32m----> 3\u001b[0m r \u001b[38;5;241m=\u001b[39m \u001b[43mnp\u001b[49m\u001b[38;5;241m.\u001b[39mrandom\u001b[38;5;241m.\u001b[39mrandint(\u001b[38;5;241m10\u001b[39m, size \u001b[38;5;241m=\u001b[39m(\u001b[38;5;241m4\u001b[39m,\u001b[38;5;241m4\u001b[39m,\u001b[38;5;241m4\u001b[39m))\n\u001b[0;32m      4\u001b[0m \u001b[38;5;28mprint\u001b[39m(r)\n",
      "\u001b[1;31mNameError\u001b[0m: name 'np' is not defined"
     ]
    }
   ],
   "source": [
    "#4\n",
    "\n",
    "r = np.random.randint(10, size =(4,4,4))\n",
    "print(r)"
   ]
  },
  {
   "cell_type": "code",
   "execution_count": 33,
   "id": "cf3d8f76",
   "metadata": {},
   "outputs": [
    {
     "name": "stdout",
     "output_type": "stream",
     "text": [
      "[[9 4 6]\n",
      " [2 6 7]\n",
      " [8 8 9]]\n",
      "max: 9\n",
      "min: 2\n"
     ]
    }
   ],
   "source": [
    "#5\n",
    "\n",
    "three = np.random.randint(10, size = (3,3))\n",
    "print(three)\n",
    "\n",
    "print('max:', np.max(three))\n",
    "print('min:', np.min(three))\n"
   ]
  },
  {
   "cell_type": "code",
   "execution_count": 178,
   "id": "94722fbf",
   "metadata": {},
   "outputs": [
    {
     "name": "stdout",
     "output_type": "stream",
     "text": [
      "[[0 1 0 1 0 1 0 1]\n",
      " [1 0 1 0 1 0 1 0]\n",
      " [0 1 0 1 0 1 0 1]\n",
      " [1 0 1 0 1 0 1 0]\n",
      " [0 1 0 1 0 1 0 1]\n",
      " [1 0 1 0 1 0 1 0]\n",
      " [0 1 0 1 0 1 0 1]\n",
      " [1 0 1 0 1 0 1 0]]\n"
     ]
    }
   ],
   "source": [
    "#6\n",
    "\n",
    "a = np.zeros((8,8),dtype=int)\n",
    "\n",
    "a[::2,1::2] = 1\n",
    "a[1::2,::2] = 1\n",
    "\n",
    "print(a)"
   ]
  },
  {
   "cell_type": "code",
   "execution_count": 183,
   "id": "498ee08d",
   "metadata": {},
   "outputs": [
    {
     "name": "stdout",
     "output_type": "stream",
     "text": [
      "[-2 -6  3  9 -4  7]\n",
      "[2 6 3 9 4 7]\n",
      "max: 9\n",
      "[2 6 3 0 4 7]\n"
     ]
    }
   ],
   "source": [
    "#7\n",
    "\n",
    "b = np.array([-2,-6,3,9,-4,7])\n",
    "b_abs = np.abs(b)\n",
    "b_max = np.max(b_abs)\n",
    "\n",
    "print(b)\n",
    "print(b_abs)\n",
    "print('max:', b_max)\n",
    "\n",
    "b_replace = np.where(b_replace == b_max, 0, b_replace)\n",
    "\n",
    "print(b_replace)"
   ]
  },
  {
   "cell_type": "code",
   "execution_count": 140,
   "id": "574f14ce",
   "metadata": {},
   "outputs": [],
   "source": [
    "#8 \n",
    "\n",
    "c = np.random.randint(10, size = (4,4))\n"
   ]
  },
  {
   "cell_type": "code",
   "execution_count": 145,
   "id": "02f0c5d8",
   "metadata": {},
   "outputs": [
    {
     "name": "stdout",
     "output_type": "stream",
     "text": [
      "[[  4   8 100   5]\n",
      " [  9   2   9   1]\n",
      " [  9   8   5   8]\n",
      " [  2   9   3   5]]\n",
      "\n",
      "[[  4   8 100]\n",
      " [  9   2   9]]\n"
     ]
    }
   ],
   "source": [
    "print(c)\n",
    "\n",
    "c_slice = c[:2,:3]\n",
    "print()\n",
    "print(c_slice)"
   ]
  },
  {
   "cell_type": "code",
   "execution_count": 146,
   "id": "632372a1",
   "metadata": {},
   "outputs": [
    {
     "name": "stdout",
     "output_type": "stream",
     "text": [
      "[[  4   8 100   5]\n",
      " [  9   2   9   1]\n",
      " [  9   8   5   8]\n",
      " [  2   9   3   5]]\n",
      "\n",
      "[[  4 100]\n",
      " [  9   9]\n",
      " [  9   5]\n",
      " [  2   3]]\n"
     ]
    }
   ],
   "source": [
    "print(c)\n",
    "\n",
    "c_slice_2 = c[::,::2]\n",
    "print()\n",
    "print(c_slice_2)"
   ]
  },
  {
   "cell_type": "code",
   "execution_count": 147,
   "id": "ebeba3ad",
   "metadata": {},
   "outputs": [
    {
     "name": "stdout",
     "output_type": "stream",
     "text": [
      "[[  4   8 100   5]\n",
      " [  9   2   9   1]\n",
      " [  9   8   5   8]\n",
      " [  2   9   3   5]]\n",
      "\n",
      "[[  4 100]\n",
      " [  9   9]\n",
      " [  9   5]\n",
      " [  2   3]]\n"
     ]
    }
   ],
   "source": [
    "print(c)\n",
    "\n",
    "c_slice_2[0,1] = 100\n",
    "print()\n",
    "print(c_slice_2)\n"
   ]
  },
  {
   "cell_type": "code",
   "execution_count": 148,
   "id": "a82c9fc0",
   "metadata": {},
   "outputs": [
    {
     "name": "stdout",
     "output_type": "stream",
     "text": [
      "[[  4   8 100   5]\n",
      " [  9   2   9   1]\n",
      " [  9   8   5   8]\n",
      " [  2   9   3   5]]\n",
      "\n",
      "[[ 4 50]\n",
      " [ 9  9]\n",
      " [ 9  5]\n",
      " [ 2  3]]\n"
     ]
    }
   ],
   "source": [
    "print(c)\n",
    "\n",
    "c_slice_copy = c[::, ::2].copy()\n",
    "\n",
    "c_slice_copy[0,1] = 50\n",
    "print()\n",
    "print(c_slice_copy)"
   ]
  },
  {
   "cell_type": "code",
   "execution_count": 150,
   "id": "0f3deff5",
   "metadata": {},
   "outputs": [],
   "source": [
    "#9\n",
    "\n",
    "d = np.random.randint(10, size = (3,3))\n",
    "e = np.random.randint(10, size = (3,3))"
   ]
  },
  {
   "cell_type": "code",
   "execution_count": 156,
   "id": "5486eace",
   "metadata": {},
   "outputs": [
    {
     "name": "stdout",
     "output_type": "stream",
     "text": [
      "[[7 5 1]\n",
      " [0 8 0]\n",
      " [8 1 1]]\n",
      "\n",
      "[[2 5 7]\n",
      " [7 4 9]\n",
      " [0 4 2]]\n"
     ]
    }
   ],
   "source": [
    "print(d)\n",
    "print()\n",
    "print(e)"
   ]
  },
  {
   "cell_type": "code",
   "execution_count": 159,
   "id": "44f20678",
   "metadata": {},
   "outputs": [
    {
     "name": "stdout",
     "output_type": "stream",
     "text": [
      "[[7 5 1]\n",
      " [0 8 0]\n",
      " [8 1 1]\n",
      " [2 5 7]\n",
      " [7 4 9]\n",
      " [0 4 2]]\n"
     ]
    }
   ],
   "source": [
    "de_hor = np.concatenate([d,e])\n",
    "print(de_hor)"
   ]
  },
  {
   "cell_type": "code",
   "execution_count": 160,
   "id": "2746f15e",
   "metadata": {},
   "outputs": [
    {
     "name": "stdout",
     "output_type": "stream",
     "text": [
      "[[7 5 1 2 5 7]\n",
      " [0 8 0 7 4 9]\n",
      " [8 1 1 0 4 2]]\n"
     ]
    }
   ],
   "source": [
    "de_ver = np.concatenate([d,e], axis=1)\n",
    "print(de_ver)"
   ]
  },
  {
   "cell_type": "code",
   "execution_count": 161,
   "id": "5e93732a",
   "metadata": {},
   "outputs": [
    {
     "name": "stdout",
     "output_type": "stream",
     "text": [
      "[[7 5 1]\n",
      " [0 8 0]\n",
      " [8 1 1]\n",
      " [2 5 7]\n",
      " [7 4 9]\n",
      " [0 4 2]]\n"
     ]
    }
   ],
   "source": [
    "de_vstack = np.vstack([d,e])\n",
    "print(de_vstack)"
   ]
  },
  {
   "cell_type": "code",
   "execution_count": 162,
   "id": "4eca02a4",
   "metadata": {},
   "outputs": [
    {
     "name": "stdout",
     "output_type": "stream",
     "text": [
      "[[7 5 1 2 5 7]\n",
      " [0 8 0 7 4 9]\n",
      " [8 1 1 0 4 2]]\n"
     ]
    }
   ],
   "source": [
    "de_hstack = np.hstack([d,e])\n",
    "print(de_hstack)"
   ]
  },
  {
   "cell_type": "code",
   "execution_count": 165,
   "id": "3c1daf19",
   "metadata": {},
   "outputs": [
    {
     "name": "stdout",
     "output_type": "stream",
     "text": [
      "[[1 5 8 6 0 5]\n",
      " [6 6 7 7 2 9]\n",
      " [0 7 3 0 8 5]\n",
      " [3 0 2 3 7 5]\n",
      " [1 3 8 7 5 4]\n",
      " [3 6 1 0 2 8]]\n"
     ]
    }
   ],
   "source": [
    "#10\n",
    "\n",
    "g = np.random.randint(10, size = (6,6))\n",
    "print(g)"
   ]
  },
  {
   "cell_type": "code",
   "execution_count": 166,
   "id": "ceeefc7b",
   "metadata": {},
   "outputs": [
    {
     "name": "stdout",
     "output_type": "stream",
     "text": [
      "[[1 5 8 6 0 5]\n",
      " [6 6 7 7 2 9]\n",
      " [0 7 3 0 8 5]]\n",
      "\n",
      "[[3 0 2 3 7 5]\n",
      " [1 3 8 7 5 4]\n",
      " [3 6 1 0 2 8]]\n"
     ]
    }
   ],
   "source": [
    "g1,g2 = np.vsplit(g, [3])\n",
    "\n",
    "print(g1)\n",
    "print()\n",
    "print(g2)"
   ]
  },
  {
   "cell_type": "code",
   "execution_count": 167,
   "id": "b8b6c1a0",
   "metadata": {},
   "outputs": [
    {
     "name": "stdout",
     "output_type": "stream",
     "text": [
      "[[1 5 8]\n",
      " [6 6 7]\n",
      " [0 7 3]\n",
      " [3 0 2]\n",
      " [1 3 8]\n",
      " [3 6 1]]\n",
      "\n",
      "[[6 0 5]\n",
      " [7 2 9]\n",
      " [0 8 5]\n",
      " [3 7 5]\n",
      " [7 5 4]\n",
      " [0 2 8]]\n"
     ]
    }
   ],
   "source": [
    "g3,g4 = np.hsplit(g, [3])\n",
    "\n",
    "print(g3)\n",
    "print()\n",
    "print(g4)"
   ]
  },
  {
   "cell_type": "code",
   "execution_count": null,
   "id": "285053fa",
   "metadata": {},
   "outputs": [],
   "source": []
  }
 ],
 "metadata": {
  "kernelspec": {
   "display_name": "Python 3 (ipykernel)",
   "language": "python",
   "name": "python3"
  },
  "language_info": {
   "codemirror_mode": {
    "name": "ipython",
    "version": 3
   },
   "file_extension": ".py",
   "mimetype": "text/x-python",
   "name": "python",
   "nbconvert_exporter": "python",
   "pygments_lexer": "ipython3",
   "version": "3.9.12"
  }
 },
 "nbformat": 4,
 "nbformat_minor": 5
}
