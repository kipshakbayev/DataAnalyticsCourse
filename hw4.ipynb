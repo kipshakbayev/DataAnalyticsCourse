{
 "cells": [
  {
   "cell_type": "code",
   "execution_count": 4,
   "id": "2f5d7c64",
   "metadata": {},
   "outputs": [
    {
     "data": {
      "text/plain": [
       "1"
      ]
     },
     "execution_count": 4,
     "metadata": {},
     "output_type": "execute_result"
    }
   ],
   "source": [
    "#1\n",
    "\n",
    "numbers_list = list(range(1, 1000001))\n",
    "\n",
    "min(numbers_list)"
   ]
  },
  {
   "cell_type": "code",
   "execution_count": 5,
   "id": "59a8bd2e",
   "metadata": {},
   "outputs": [
    {
     "data": {
      "text/plain": [
       "1000000"
      ]
     },
     "execution_count": 5,
     "metadata": {},
     "output_type": "execute_result"
    }
   ],
   "source": [
    "max(numbers_list)"
   ]
  },
  {
   "cell_type": "code",
   "execution_count": 6,
   "id": "eb809901",
   "metadata": {},
   "outputs": [
    {
     "data": {
      "text/plain": [
       "500000500000"
      ]
     },
     "execution_count": 6,
     "metadata": {},
     "output_type": "execute_result"
    }
   ],
   "source": [
    "sum(numbers_list)"
   ]
  },
  {
   "cell_type": "code",
   "execution_count": 15,
   "id": "e0f97bd9",
   "metadata": {},
   "outputs": [
    {
     "name": "stdout",
     "output_type": "stream",
     "text": [
      "3\n",
      "6\n",
      "9\n",
      "12\n",
      "15\n",
      "18\n",
      "21\n",
      "24\n",
      "27\n",
      "30\n"
     ]
    }
   ],
   "source": [
    "#2\n",
    "\n",
    "for numbers in range(3, 31, 3):\n",
    "    print(numbers)"
   ]
  },
  {
   "cell_type": "code",
   "execution_count": 21,
   "id": "d0e419a1",
   "metadata": {},
   "outputs": [
    {
     "name": "stdout",
     "output_type": "stream",
     "text": [
      "1\n",
      "8\n",
      "27\n",
      "64\n",
      "125\n",
      "216\n",
      "343\n",
      "512\n",
      "729\n",
      "1000\n"
     ]
    }
   ],
   "source": [
    "#3\n",
    "\n",
    "for cube in range(1, 11):\n",
    "    cb = cube ** 3 \n",
    "    print(cb)"
   ]
  },
  {
   "cell_type": "code",
   "execution_count": 1,
   "id": "4991cf82",
   "metadata": {},
   "outputs": [
    {
     "name": "stdout",
     "output_type": "stream",
     "text": [
      "Введите возраст: 49\n",
      "Цена билета: 1500\n",
      "Введите возраст: 72\n",
      "Цена билета: 1500\n",
      "Введите возраст: 3\n",
      "Цена билета: 1000\n",
      "Введите возраст: 35\n",
      "Цена билета: 1500\n",
      "Введите возраст: 2\n",
      "Цена билета: бесплатно\n",
      "Введите возраст: -1\n",
      "\n"
     ]
    }
   ],
   "source": [
    "#4\n",
    "\n",
    "prompt = \"Введите возраст: \"\n",
    "entrance = True\n",
    "\n",
    "while entrance:\n",
    "    message = int(input(prompt))\n",
    "    \n",
    "    if message >= 0 and message < 3:\n",
    "        print(\"Цена билета: бесплатно\")\n",
    "        entrance = True\n",
    "    \n",
    "    elif message >= 3 and message < 12:\n",
    "        print(\"Цена билета: 1000\")\n",
    "        entrance = True\n",
    "        \n",
    "    elif message >= 12:\n",
    "        print(\"Цена билета: 1500\")\n",
    "        entrance = True\n",
    "        \n",
    "    elif message == -1:\n",
    "        print(\"\")\n",
    "        entrance = False\n",
    "        \n",
    "    else:\n",
    "        print(\"Invalid number\")\n",
    "    \n",
    "        \n"
   ]
  },
  {
   "cell_type": "code",
   "execution_count": 1,
   "id": "078b4d73",
   "metadata": {},
   "outputs": [
    {
     "name": "stdout",
     "output_type": "stream",
     "text": [
      "Введите целое число: 1000\n",
      "1\n",
      "2\n",
      "4\n",
      "5\n",
      "8\n",
      "10\n",
      "20\n",
      "25\n",
      "40\n",
      "50\n",
      "100\n",
      "125\n",
      "200\n",
      "250\n",
      "500\n",
      "1000\n"
     ]
    }
   ],
   "source": [
    "#5\n",
    "\n",
    "numbers = int(input(\"Введите целое число: \"))\n",
    "\n",
    "for i in range(1, numbers + 1):\n",
    "    if numbers % i == 0:\n",
    "        print(i)\n"
   ]
  },
  {
   "cell_type": "code",
   "execution_count": 2,
   "id": "95ef846d",
   "metadata": {},
   "outputs": [
    {
     "name": "stdout",
     "output_type": "stream",
     "text": [
      "1\n",
      "2\n",
      "3\n",
      "4\n",
      "6\n",
      "7\n",
      "9\n",
      "12\n",
      "14\n",
      "18\n",
      "21\n",
      "27\n",
      "28\n",
      "31\n",
      "36\n",
      "42\n",
      "54\n",
      "62\n",
      "63\n",
      "84\n",
      "93\n",
      "108\n",
      "124\n",
      "126\n",
      "186\n",
      "189\n",
      "217\n",
      "252\n",
      "279\n",
      "372\n",
      "378\n",
      "434\n",
      "558\n",
      "651\n",
      "756\n",
      "837\n",
      "868\n",
      "1116\n",
      "1302\n",
      "1674\n",
      "1953\n",
      "2604\n",
      "3348\n",
      "3906\n",
      "5859\n",
      "7812\n",
      "11718\n",
      "23436\n"
     ]
    }
   ],
   "source": [
    "numbers = 23436\n",
    "\n",
    "for i in range(1, numbers + 1):\n",
    "    if numbers % i == 0:\n",
    "        print(i)\n",
    "    "
   ]
  },
  {
   "cell_type": "code",
   "execution_count": 2,
   "id": "162c271e",
   "metadata": {},
   "outputs": [
    {
     "name": "stdout",
     "output_type": "stream",
     "text": [
      "1\n",
      "2\n",
      "4\n",
      "5\n",
      "7\n",
      "8\n",
      "10\n",
      "14\n",
      "16\n",
      "20\n",
      "25\n",
      "28\n",
      "32\n",
      "35\n",
      "40\n",
      "50\n",
      "56\n",
      "64\n",
      "70\n",
      "80\n",
      "100\n",
      "112\n",
      "140\n",
      "160\n",
      "175\n",
      "200\n",
      "224\n",
      "280\n",
      "320\n",
      "350\n",
      "400\n",
      "448\n",
      "560\n",
      "700\n",
      "800\n",
      "1120\n",
      "1400\n",
      "1600\n",
      "2240\n",
      "2800\n",
      "5600\n",
      "11200\n",
      "16981\n",
      "33962\n",
      "67924\n",
      "84905\n",
      "118867\n",
      "135848\n",
      "169810\n",
      "237734\n",
      "271696\n",
      "339620\n",
      "424525\n",
      "475468\n",
      "543392\n",
      "594335\n",
      "679240\n",
      "849050\n",
      "950936\n",
      "1086784\n",
      "1188670\n",
      "1358480\n",
      "1698100\n",
      "1901872\n",
      "2377340\n",
      "2716960\n",
      "2971675\n",
      "3396200\n",
      "3803744\n",
      "4754680\n",
      "5433920\n",
      "5943350\n",
      "6792400\n",
      "7607488\n",
      "9509360\n",
      "11886700\n",
      "13584800\n",
      "19018720\n",
      "23773400\n",
      "27169600\n",
      "38037440\n",
      "47546800\n",
      "95093600\n",
      "190187200\n"
     ]
    }
   ],
   "source": [
    "numbers = 190187200\n",
    "\n",
    "for i in range(1, numbers + 1):\n",
    "    if numbers % i == 0:\n",
    "        print(i) \n",
    "    \n"
   ]
  },
  {
   "cell_type": "code",
   "execution_count": 2,
   "id": "6d047205",
   "metadata": {},
   "outputs": [
    {
     "name": "stdout",
     "output_type": "stream",
     "text": [
      "Введите целое число: 123\n",
      "6\n"
     ]
    }
   ],
   "source": [
    "#6\n",
    "\n",
    "number = input(\"Введите целое число: \")\n",
    "\n",
    "the_list = []\n",
    "\n",
    "for i in number:\n",
    "    i = int(i)\n",
    "    the_list.append(i)\n",
    "    sum_list = sum(the_list)\n",
    "    \n",
    "print(sum_list)"
   ]
  },
  {
   "cell_type": "code",
   "execution_count": 8,
   "id": "cfd53e6a",
   "metadata": {},
   "outputs": [
    {
     "name": "stdout",
     "output_type": "stream",
     "text": [
      "1\n",
      "2\n",
      "3\n",
      "4\n",
      "5\n",
      "6\n",
      "7\n",
      "8\n",
      "9\n",
      "10\n"
     ]
    }
   ],
   "source": [
    "for i in range(10): \n",
    " \n",
    " print(i+1)"
   ]
  },
  {
   "cell_type": "code",
   "execution_count": null,
   "id": "dc84d5e8",
   "metadata": {},
   "outputs": [],
   "source": []
  }
 ],
 "metadata": {
  "kernelspec": {
   "display_name": "Python 3 (ipykernel)",
   "language": "python",
   "name": "python3"
  },
  "language_info": {
   "codemirror_mode": {
    "name": "ipython",
    "version": 3
   },
   "file_extension": ".py",
   "mimetype": "text/x-python",
   "name": "python",
   "nbconvert_exporter": "python",
   "pygments_lexer": "ipython3",
   "version": "3.9.12"
  }
 },
 "nbformat": 4,
 "nbformat_minor": 5
}
