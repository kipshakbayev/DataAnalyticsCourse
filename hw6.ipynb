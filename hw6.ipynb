{
 "cells": [
  {
   "cell_type": "code",
   "execution_count": 15,
   "id": "881b4c68",
   "metadata": {},
   "outputs": [
    {
     "name": "stdout",
     "output_type": "stream",
     "text": [
      "Футболист выступает за Liverpool\n",
      "В клубе Liverpool выступает Henderson\n",
      "Позиция Henderson - ЦП\n",
      "Футболист выступает за Chelsea\n",
      "В клубе Chelsea выступает Kante\n",
      "Позиция Kante - ЦОП\n",
      "Футболист выступает за Liverpool\n",
      "В клубе Liverpool выступает Henderson\n",
      "Позиция Henderson - ЦП\n",
      "Футболист выступает за Chelsea\n",
      "В клубе Chelsea выступает Kante\n",
      "Позиция Kante - ЦОП\n",
      "Футболист выступает за Liverpool\n",
      "В клубе Liverpool выступает Henderson\n",
      "Позиция Henderson - ЦП\n",
      "Футболист выступает за Chelsea\n",
      "В клубе Chelsea выступает Kante\n",
      "Позиция Kante - ЦОП\n",
      "Футболист выступает за Liverpool\n",
      "В клубе Liverpool выступает Henderson\n",
      "Позиция Henderson - ЦП\n",
      "Футболист выступает за Chelsea\n",
      "В клубе Chelsea выступает Kante\n",
      "Позиция Kante - ЦОП\n"
     ]
    }
   ],
   "source": [
    "#1\n",
    "\n",
    "import player\n",
    "\n",
    "player.describe_player(\"liverpool\", \"henderson\", \"ЦП\")\n",
    "player.describe_player(\"chelsea\", \"kante\", \"ЦОП\")\n",
    "\n",
    "from player import describe_player\n",
    "\n",
    "describe_player(\"liverpool\", \"henderson\", \"ЦП\")\n",
    "describe_player(\"chelsea\", \"kante\", \"ЦОП\")\n",
    "\n",
    "from player import describe_player as dp\n",
    "\n",
    "dp(\"liverpool\", \"henderson\", \"ЦП\")\n",
    "dp(\"chelsea\", \"kante\", \"ЦОП\")\n",
    "\n",
    "from player import *\n",
    "\n",
    "dp(\"liverpool\", \"henderson\", \"ЦП\")\n",
    "dp(\"chelsea\", \"kante\", \"ЦОП\")"
   ]
  },
  {
   "cell_type": "code",
   "execution_count": 24,
   "id": "ecc9e330",
   "metadata": {},
   "outputs": [
    {
     "name": "stdout",
     "output_type": "stream",
     "text": [
      "luckee\n",
      "asian\n",
      "Название ресторана: Luckee, кухня: Asian\n",
      "Ресторан с названием Luckee открыт\n"
     ]
    }
   ],
   "source": [
    "#2 - 2.1\n",
    "\n",
    "class Restaurant():\n",
    "    def __init__(self, restaurant_name, cuisine_type):\n",
    "        self.name = restaurant_name\n",
    "        self.type = cuisine_type\n",
    "        \n",
    "    def describe_restaurant(self):\n",
    "        print(f\"Название ресторана: {self.name.title()}, кухня: {self.type.title()}\")\n",
    "        \n",
    "    def open_restaurant(self):\n",
    "        print(f\"Ресторан с названием {self.name.title()} открыт\")\n",
    "        \n",
    "restaurant = Restaurant(\"luckee\", \"asian\")\n",
    "print(restaurant.name)\n",
    "print(restaurant.type)\n",
    "restaurant.describe_restaurant()\n",
    "restaurant.open_restaurant()\n"
   ]
  },
  {
   "cell_type": "code",
   "execution_count": 22,
   "id": "67444c4c",
   "metadata": {},
   "outputs": [
    {
     "name": "stdout",
     "output_type": "stream",
     "text": [
      "Название ресторана: Алые Паруса, кухня: Japanese\n",
      "Название ресторана: Del Papa, кухня: Italian\n"
     ]
    }
   ],
   "source": [
    "#2.2\n",
    "\n",
    "restaurant_a = Restaurant(\"алые паруса\", \"japanese\")\n",
    "restaurant_a.describe_restaurant()\n",
    "\n",
    "restaurant_b = Restaurant(\"del papa\", \"italian\")\n",
    "restaurant_b.describe_restaurant()\n"
   ]
  },
  {
   "cell_type": "code",
   "execution_count": 8,
   "id": "e597a84a",
   "metadata": {},
   "outputs": [
    {
     "name": "stdout",
     "output_type": "stream",
     "text": [
      "2\n"
     ]
    }
   ],
   "source": [
    "#2.3\n",
    "\n",
    "class Restaurant():\n",
    "    def __init__(self, restaurant_name, cuisine_type, number_served):\n",
    "        self.name = restaurant_name\n",
    "        self.type = cuisine_type\n",
    "        self.served = number_served\n",
    "        \n",
    "        \n",
    "    def describe_restaurant(self):\n",
    "        print(f\"Название ресторана: {self.name.title()}, кухня: {self.type.title()}\")\n",
    "        \n",
    "    def open_restaurant(self):\n",
    "        print(f\"Ресторан с названием {self.name.title()} открыт\")\n",
    "        \n",
    "restaurant_2 = Restaurant(\"del papa\", \"italian\", 2)    \n",
    "print(restaurant_2.served)\n",
    "\n"
   ]
  },
  {
   "cell_type": "code",
   "execution_count": 10,
   "id": "d694cb85",
   "metadata": {},
   "outputs": [
    {
     "name": "stdout",
     "output_type": "stream",
     "text": [
      "4\n"
     ]
    }
   ],
   "source": [
    "#2.4 \n",
    "\n",
    "class Restaurant():\n",
    "    def __init__(self, restaurant_name, cuisine_type, number_served):\n",
    "        self.name = restaurant_name\n",
    "        self.type = cuisine_type\n",
    "        self.served = number_served\n",
    "        \n",
    "        \n",
    "    def describe_restaurant(self):\n",
    "        print(f\"Название ресторана: {self.name.title()}, кухня: {self.type.title()}\")\n",
    "        \n",
    "    def open_restaurant(self):\n",
    "        print(f\"Ресторан с названием {self.name.title()} открыт\")\n",
    "        \n",
    "    def set_number_served(self, upd_served):\n",
    "        self.served = upd_served\n",
    "        \n",
    "restaurant_2 = Restaurant(\"del papa\", \"italian\", 2)\n",
    "restaurant_2.set_number_served(4)\n",
    "print(restaurant_2.served)\n"
   ]
  },
  {
   "cell_type": "code",
   "execution_count": 12,
   "id": "0dd95ee0",
   "metadata": {},
   "outputs": [
    {
     "name": "stdout",
     "output_type": "stream",
     "text": [
      "10\n"
     ]
    }
   ],
   "source": [
    "#2.5\n",
    "\n",
    "class Restaurant():\n",
    "    def __init__(self, restaurant_name, cuisine_type, number_served):\n",
    "        self.name = restaurant_name\n",
    "        self.type = cuisine_type\n",
    "        self.served = number_served\n",
    "        \n",
    "        \n",
    "    def describe_restaurant(self):\n",
    "        print(f\"Название ресторана: {self.name.title()}, кухня: {self.type.title()}\")\n",
    "        \n",
    "    def open_restaurant(self):\n",
    "        print(f\"Ресторан с названием {self.name.title()} открыт\")\n",
    "        \n",
    "    def set_number_served(self, upd_served):\n",
    "        self.served = upd_served\n",
    "        \n",
    "    def increment_number_served(self, inc_served):\n",
    "        self.served += inc_served\n",
    "        \n",
    "restaurant_2 = Restaurant(\"del papa\", \"italian\", 2)\n",
    "restaurant_2.increment_number_served(8)\n",
    "print(restaurant_2.served)"
   ]
  },
  {
   "cell_type": "code",
   "execution_count": 13,
   "id": "5875e742",
   "metadata": {},
   "outputs": [
    {
     "name": "stdout",
     "output_type": "stream",
     "text": [
      "Имя: Samat, Фамилия: Abishev\n",
      "Приветствую вас Samat Abishev\n",
      "Имя: Kairat, Фамилия: Nurtas\n",
      "Приветствую вас Kairat Nurtas\n",
      "Имя: Zhandos, Фамилия: Aibasov\n",
      "Приветствую вас Zhandos Aibasov\n"
     ]
    }
   ],
   "source": [
    "#3-3.1\n",
    "\n",
    "class User():\n",
    "    def __init__(self, first_name, last_name):\n",
    "        self.fname = first_name\n",
    "        self.lname = last_name\n",
    "        \n",
    "    def describe_user(self):\n",
    "        print(f\"Имя: {self.fname.title()}, Фамилия: {self.lname.title()}\")\n",
    "        \n",
    "    def greet_user(self):\n",
    "        print(f\"Приветствую вас {self.fname.title()} {self.lname.title()}\")\n",
    "        \n",
    "user_1 = User(\"samat\", \"abishev\")\n",
    "user_1.describe_user()\n",
    "user_1.greet_user()\n",
    "user_2 = User(\"kairat\", \"nurtas\")\n",
    "user_2.describe_user()\n",
    "user_2.greet_user()\n",
    "user_3 = User(\"zhandos\", \"aibasov\")\n",
    "user_3.describe_user()\n",
    "user_3.greet_user()\n",
    "\n"
   ]
  },
  {
   "cell_type": "code",
   "execution_count": 23,
   "id": "0fc33172",
   "metadata": {},
   "outputs": [
    {
     "name": "stdout",
     "output_type": "stream",
     "text": [
      "5\n",
      "0\n"
     ]
    }
   ],
   "source": [
    "#3.2\n",
    "\n",
    "class User():\n",
    "    def __init__(self, first_name, last_name, login_attempts):\n",
    "        self.fname = first_name\n",
    "        self.lname = last_name\n",
    "        self.attempts = login_attempts\n",
    "        \n",
    "    def describe_user(self):\n",
    "        print(f\"Имя: {self.fname.title()}, Фамилия: {self.lname.title()}\")\n",
    "        \n",
    "    def greet_user(self):\n",
    "        print(f\"Приветствую вас {self.fname.title()} {self.lname.title()}\")\n",
    "        \n",
    "    def increment_login_attempts(self):\n",
    "        self.attempts += 1\n",
    "        \n",
    "    def reset_login_attempts(self):\n",
    "        self.attempts *= 0\n",
    "        \n",
    "user_4 = User(\"samat\", \"abishev\", 0)\n",
    "user_4.increment_login_attempts()\n",
    "user_4.increment_login_attempts()\n",
    "user_4.increment_login_attempts()\n",
    "user_4.increment_login_attempts()\n",
    "user_4.increment_login_attempts()\n",
    "print(user_4.attempts)\n",
    "\n",
    "user_4.reset_login_attempts()\n",
    "print(user_4.attempts)"
   ]
  },
  {
   "cell_type": "code",
   "execution_count": 42,
   "id": "2ddcbea1",
   "metadata": {},
   "outputs": [
    {
     "name": "stdout",
     "output_type": "stream",
     "text": [
      "Результат броска: 3\n",
      "Результат броска: 5\n",
      "Результат броска: 4\n"
     ]
    }
   ],
   "source": [
    "#4 - 4.1\n",
    "\n",
    "from random import randint\n",
    "\n",
    "class Die():\n",
    "    def __init__(self, sides):\n",
    "        self.sides = sides\n",
    "        \n",
    "    def roll_die(self):\n",
    "        print(f\"Результат броска: {randint(1, self.sides)}\")\n",
    "        \n",
    "six_cube = Die(6)\n",
    "six_cube.roll_die()\n",
    "six_cube.roll_die()\n",
    "six_cube.roll_die()"
   ]
  },
  {
   "cell_type": "code",
   "execution_count": 41,
   "id": "b01495bc",
   "metadata": {},
   "outputs": [
    {
     "name": "stdout",
     "output_type": "stream",
     "text": [
      "Результат броска: 7\n",
      "Результат броска: 10\n",
      "Результат броска: 20\n",
      "Результат броска: 15\n"
     ]
    }
   ],
   "source": [
    "#4.2\n",
    "\n",
    "ten_cube = Die(10)\n",
    "ten_cube.roll_die()\n",
    "ten_cube.roll_die()\n",
    "twenty_cube = Die(20)\n",
    "twenty_cube.roll_die()\n",
    "twenty_cube.roll_die()"
   ]
  },
  {
   "cell_type": "code",
   "execution_count": null,
   "id": "0c19d00c",
   "metadata": {},
   "outputs": [],
   "source": []
  }
 ],
 "metadata": {
  "kernelspec": {
   "display_name": "Python 3 (ipykernel)",
   "language": "python",
   "name": "python3"
  },
  "language_info": {
   "codemirror_mode": {
    "name": "ipython",
    "version": 3
   },
   "file_extension": ".py",
   "mimetype": "text/x-python",
   "name": "python",
   "nbconvert_exporter": "python",
   "pygments_lexer": "ipython3",
   "version": "3.9.12"
  }
 },
 "nbformat": 4,
 "nbformat_minor": 5
}
