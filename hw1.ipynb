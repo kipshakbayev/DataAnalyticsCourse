{
 "cells": [
  {
   "cell_type": "code",
   "execution_count": 3,
   "id": "30fda42c",
   "metadata": {},
   "outputs": [
    {
     "name": "stdout",
     "output_type": "stream",
     "text": [
      "Nursultan\n",
      "Astana\n"
     ]
    }
   ],
   "source": [
    "name = \"Nursultan\"\n",
    "print(name)\n",
    "name = \"Astana\"\n",
    "print(name)"
   ]
  },
  {
   "cell_type": "code",
   "execution_count": 8,
   "id": "0e7b477d",
   "metadata": {},
   "outputs": [
    {
     "name": "stdout",
     "output_type": "stream",
     "text": [
      "Nursultan Kipshakbayev\n",
      "nursultan kipshakbayev\n",
      "NURSULTAN KIPSHAKBAYEV\n",
      "Nursultan Kipshakbayev\n"
     ]
    }
   ],
   "source": [
    "f_name = \"Nursultan\"\n",
    "s_name = \"Kipshakbayev\"\n",
    "full_name = f_name + \" \" + s_name\n",
    "print(full_name)\n",
    "print(full_name.lower())\n",
    "print(full_name.upper())\n",
    "print(full_name.title())"
   ]
  },
  {
   "cell_type": "code",
   "execution_count": 28,
   "id": "17d0fc65",
   "metadata": {},
   "outputs": [
    {
     "name": "stdout",
     "output_type": "stream",
     "text": [
      "N\n",
      " u\n",
      "  r\n",
      "   s\n",
      "    u\n",
      "     l\n",
      "      t\n",
      "       a\n",
      " \tn\n"
     ]
    }
   ],
   "source": [
    "print(\"N\\n u\\n  r\\n   s\\n    u\\n     l\\n      t\\n       a\\n \\tn\")"
   ]
  },
  {
   "cell_type": "code",
   "execution_count": 31,
   "id": "f8622a20",
   "metadata": {},
   "outputs": [
    {
     "name": "stdout",
     "output_type": "stream",
     "text": [
      "Мое любимое число: 7\n"
     ]
    }
   ],
   "source": [
    "f_number = \"7\"\n",
    "text = \"Мое любимое число: \"\n",
    "print(text + f_number)"
   ]
  },
  {
   "cell_type": "code",
   "execution_count": 36,
   "id": "942114e3",
   "metadata": {},
   "outputs": [
    {
     "name": "stdout",
     "output_type": "stream",
     "text": [
      "8\n",
      "8\n",
      "8\n",
      "8.0\n"
     ]
    }
   ],
   "source": [
    "print(6+2)\n",
    "print(134-126)\n",
    "print(4*2)\n",
    "print(24/3)"
   ]
  },
  {
   "cell_type": "code",
   "execution_count": null,
   "id": "2f4b1285",
   "metadata": {},
   "outputs": [],
   "source": []
  }
 ],
 "metadata": {
  "kernelspec": {
   "display_name": "Python 3 (ipykernel)",
   "language": "python",
   "name": "python3"
  },
  "language_info": {
   "codemirror_mode": {
    "name": "ipython",
    "version": 3
   },
   "file_extension": ".py",
   "mimetype": "text/x-python",
   "name": "python",
   "nbconvert_exporter": "python",
   "pygments_lexer": "ipython3",
   "version": "3.9.12"
  }
 },
 "nbformat": 4,
 "nbformat_minor": 5
}
