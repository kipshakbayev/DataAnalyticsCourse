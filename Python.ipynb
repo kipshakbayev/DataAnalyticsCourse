{
 "cells": [
  {
   "cell_type": "code",
   "execution_count": 11,
   "id": "9f002c90",
   "metadata": {},
   "outputs": [
    {
     "data": {
      "text/html": [
       "<div>\n",
       "<style scoped>\n",
       "    .dataframe tbody tr th:only-of-type {\n",
       "        vertical-align: middle;\n",
       "    }\n",
       "\n",
       "    .dataframe tbody tr th {\n",
       "        vertical-align: top;\n",
       "    }\n",
       "\n",
       "    .dataframe thead th {\n",
       "        text-align: right;\n",
       "    }\n",
       "</style>\n",
       "<table border=\"1\" class=\"dataframe\">\n",
       "  <thead>\n",
       "    <tr style=\"text-align: right;\">\n",
       "      <th></th>\n",
       "      <th>job_title</th>\n",
       "      <th>hh_title</th>\n",
       "      <th>age</th>\n",
       "      <th>salary</th>\n",
       "      <th>exp. period</th>\n",
       "      <th>title of exp.</th>\n",
       "    </tr>\n",
       "  </thead>\n",
       "  <tbody>\n",
       "    <tr>\n",
       "      <th>0</th>\n",
       "      <td>data analyst</td>\n",
       "      <td>Data analyst</td>\n",
       "      <td>22.0</td>\n",
       "      <td>NaN</td>\n",
       "      <td>2.67</td>\n",
       "      <td>Data Analyst</td>\n",
       "    </tr>\n",
       "    <tr>\n",
       "      <th>1</th>\n",
       "      <td>data analyst</td>\n",
       "      <td>Data Analyst</td>\n",
       "      <td>21.0</td>\n",
       "      <td>NaN</td>\n",
       "      <td>0.83</td>\n",
       "      <td>Junior Data Analyst</td>\n",
       "    </tr>\n",
       "    <tr>\n",
       "      <th>2</th>\n",
       "      <td>data analyst</td>\n",
       "      <td>Data Analyst</td>\n",
       "      <td>30.0</td>\n",
       "      <td>NaN</td>\n",
       "      <td>7.50</td>\n",
       "      <td>Data Analyst</td>\n",
       "    </tr>\n",
       "    <tr>\n",
       "      <th>3</th>\n",
       "      <td>data analyst</td>\n",
       "      <td>Data Analyst</td>\n",
       "      <td>24.0</td>\n",
       "      <td>NaN</td>\n",
       "      <td>4.92</td>\n",
       "      <td>Data Analyst</td>\n",
       "    </tr>\n",
       "    <tr>\n",
       "      <th>4</th>\n",
       "      <td>data analyst</td>\n",
       "      <td>Data Analyst</td>\n",
       "      <td>27.0</td>\n",
       "      <td>450000.0</td>\n",
       "      <td>3.25</td>\n",
       "      <td>Business Intelligence Analyst</td>\n",
       "    </tr>\n",
       "  </tbody>\n",
       "</table>\n",
       "</div>"
      ],
      "text/plain": [
       "      job_title      hh_title   age    salary  exp. period  \\\n",
       "0  data analyst  Data analyst  22.0       NaN         2.67   \n",
       "1  data analyst  Data Analyst  21.0       NaN         0.83   \n",
       "2  data analyst  Data Analyst  30.0       NaN         7.50   \n",
       "3  data analyst  Data Analyst  24.0       NaN         4.92   \n",
       "4  data analyst  Data Analyst  27.0  450000.0         3.25   \n",
       "\n",
       "                   title of exp.  \n",
       "0                   Data Analyst  \n",
       "1            Junior Data Analyst  \n",
       "2                   Data Analyst  \n",
       "3                   Data Analyst  \n",
       "4  Business Intelligence Analyst  "
      ]
     },
     "execution_count": 11,
     "metadata": {},
     "output_type": "execute_result"
    }
   ],
   "source": [
    "import numpy as np\n",
    "import pandas as pd\n",
    "\n",
    "df = pd.read_csv('data.csv', encoding = 'unicode_escape')\n",
    "df.head()"
   ]
  },
  {
   "cell_type": "code",
   "execution_count": 17,
   "id": "b514a7a1",
   "metadata": {},
   "outputs": [
    {
     "data": {
      "text/html": [
       "<div>\n",
       "<style scoped>\n",
       "    .dataframe tbody tr th:only-of-type {\n",
       "        vertical-align: middle;\n",
       "    }\n",
       "\n",
       "    .dataframe tbody tr th {\n",
       "        vertical-align: top;\n",
       "    }\n",
       "\n",
       "    .dataframe thead th {\n",
       "        text-align: right;\n",
       "    }\n",
       "</style>\n",
       "<table border=\"1\" class=\"dataframe\">\n",
       "  <thead>\n",
       "    <tr style=\"text-align: right;\">\n",
       "      <th></th>\n",
       "      <th>job_title</th>\n",
       "      <th>age</th>\n",
       "      <th>salary</th>\n",
       "      <th>exp. period</th>\n",
       "    </tr>\n",
       "  </thead>\n",
       "  <tbody>\n",
       "    <tr>\n",
       "      <th>0</th>\n",
       "      <td>data analyst</td>\n",
       "      <td>22.0</td>\n",
       "      <td>NaN</td>\n",
       "      <td>2.67</td>\n",
       "    </tr>\n",
       "    <tr>\n",
       "      <th>1</th>\n",
       "      <td>data analyst</td>\n",
       "      <td>21.0</td>\n",
       "      <td>NaN</td>\n",
       "      <td>0.83</td>\n",
       "    </tr>\n",
       "    <tr>\n",
       "      <th>2</th>\n",
       "      <td>data analyst</td>\n",
       "      <td>30.0</td>\n",
       "      <td>NaN</td>\n",
       "      <td>7.50</td>\n",
       "    </tr>\n",
       "    <tr>\n",
       "      <th>3</th>\n",
       "      <td>data analyst</td>\n",
       "      <td>24.0</td>\n",
       "      <td>NaN</td>\n",
       "      <td>4.92</td>\n",
       "    </tr>\n",
       "    <tr>\n",
       "      <th>4</th>\n",
       "      <td>data analyst</td>\n",
       "      <td>27.0</td>\n",
       "      <td>450000.0</td>\n",
       "      <td>3.25</td>\n",
       "    </tr>\n",
       "    <tr>\n",
       "      <th>...</th>\n",
       "      <td>...</td>\n",
       "      <td>...</td>\n",
       "      <td>...</td>\n",
       "      <td>...</td>\n",
       "    </tr>\n",
       "    <tr>\n",
       "      <th>995</th>\n",
       "      <td>sql</td>\n",
       "      <td>51.0</td>\n",
       "      <td>NaN</td>\n",
       "      <td>25.42</td>\n",
       "    </tr>\n",
       "    <tr>\n",
       "      <th>996</th>\n",
       "      <td>sql</td>\n",
       "      <td>22.0</td>\n",
       "      <td>NaN</td>\n",
       "      <td>1.58</td>\n",
       "    </tr>\n",
       "    <tr>\n",
       "      <th>997</th>\n",
       "      <td>sql</td>\n",
       "      <td>42.0</td>\n",
       "      <td>NaN</td>\n",
       "      <td>9.33</td>\n",
       "    </tr>\n",
       "    <tr>\n",
       "      <th>998</th>\n",
       "      <td>sql</td>\n",
       "      <td>NaN</td>\n",
       "      <td>NaN</td>\n",
       "      <td>16.08</td>\n",
       "    </tr>\n",
       "    <tr>\n",
       "      <th>999</th>\n",
       "      <td>sql</td>\n",
       "      <td>19.0</td>\n",
       "      <td>NaN</td>\n",
       "      <td>0.33</td>\n",
       "    </tr>\n",
       "  </tbody>\n",
       "</table>\n",
       "<p>1000 rows × 4 columns</p>\n",
       "</div>"
      ],
      "text/plain": [
       "        job_title   age    salary  exp. period\n",
       "0    data analyst  22.0       NaN         2.67\n",
       "1    data analyst  21.0       NaN         0.83\n",
       "2    data analyst  30.0       NaN         7.50\n",
       "3    data analyst  24.0       NaN         4.92\n",
       "4    data analyst  27.0  450000.0         3.25\n",
       "..            ...   ...       ...          ...\n",
       "995           sql  51.0       NaN        25.42\n",
       "996           sql  22.0       NaN         1.58\n",
       "997           sql  42.0       NaN         9.33\n",
       "998           sql   NaN       NaN        16.08\n",
       "999           sql  19.0       NaN         0.33\n",
       "\n",
       "[1000 rows x 4 columns]"
      ]
     },
     "execution_count": 17,
     "metadata": {},
     "output_type": "execute_result"
    }
   ],
   "source": [
    "sdf = df.loc[:,['job_title', 'age', 'salary', 'exp. period']]\n",
    "sdf"
   ]
  },
  {
   "cell_type": "code",
   "execution_count": 36,
   "id": "ffa3ea38",
   "metadata": {},
   "outputs": [
    {
     "data": {
      "text/html": [
       "<div>\n",
       "<style scoped>\n",
       "    .dataframe tbody tr th:only-of-type {\n",
       "        vertical-align: middle;\n",
       "    }\n",
       "\n",
       "    .dataframe tbody tr th {\n",
       "        vertical-align: top;\n",
       "    }\n",
       "\n",
       "    .dataframe thead th {\n",
       "        text-align: right;\n",
       "    }\n",
       "</style>\n",
       "<table border=\"1\" class=\"dataframe\">\n",
       "  <thead>\n",
       "    <tr style=\"text-align: right;\">\n",
       "      <th></th>\n",
       "      <th>job_title</th>\n",
       "      <th>age</th>\n",
       "      <th>salary</th>\n",
       "      <th>exp. period</th>\n",
       "    </tr>\n",
       "  </thead>\n",
       "  <tbody>\n",
       "    <tr>\n",
       "      <th>4</th>\n",
       "      <td>data analyst</td>\n",
       "      <td>27.0</td>\n",
       "      <td>450000.0</td>\n",
       "      <td>3.25</td>\n",
       "    </tr>\n",
       "    <tr>\n",
       "      <th>11</th>\n",
       "      <td>data analyst</td>\n",
       "      <td>25.0</td>\n",
       "      <td>860000.0</td>\n",
       "      <td>2.92</td>\n",
       "    </tr>\n",
       "    <tr>\n",
       "      <th>12</th>\n",
       "      <td>data analyst</td>\n",
       "      <td>28.0</td>\n",
       "      <td>950000.0</td>\n",
       "      <td>7.25</td>\n",
       "    </tr>\n",
       "    <tr>\n",
       "      <th>15</th>\n",
       "      <td>data analyst</td>\n",
       "      <td>29.0</td>\n",
       "      <td>500000.0</td>\n",
       "      <td>6.75</td>\n",
       "    </tr>\n",
       "    <tr>\n",
       "      <th>21</th>\n",
       "      <td>data analyst</td>\n",
       "      <td>22.0</td>\n",
       "      <td>500000.0</td>\n",
       "      <td>3.33</td>\n",
       "    </tr>\n",
       "    <tr>\n",
       "      <th>...</th>\n",
       "      <td>...</td>\n",
       "      <td>...</td>\n",
       "      <td>...</td>\n",
       "      <td>...</td>\n",
       "    </tr>\n",
       "    <tr>\n",
       "      <th>989</th>\n",
       "      <td>sql</td>\n",
       "      <td>56.0</td>\n",
       "      <td>860.0</td>\n",
       "      <td>15.25</td>\n",
       "    </tr>\n",
       "    <tr>\n",
       "      <th>990</th>\n",
       "      <td>sql</td>\n",
       "      <td>32.0</td>\n",
       "      <td>645000.0</td>\n",
       "      <td>10.67</td>\n",
       "    </tr>\n",
       "    <tr>\n",
       "      <th>991</th>\n",
       "      <td>sql</td>\n",
       "      <td>28.0</td>\n",
       "      <td>200000.0</td>\n",
       "      <td>6.58</td>\n",
       "    </tr>\n",
       "    <tr>\n",
       "      <th>992</th>\n",
       "      <td>sql</td>\n",
       "      <td>38.0</td>\n",
       "      <td>500000.0</td>\n",
       "      <td>11.42</td>\n",
       "    </tr>\n",
       "    <tr>\n",
       "      <th>994</th>\n",
       "      <td>sql</td>\n",
       "      <td>29.0</td>\n",
       "      <td>1505000.0</td>\n",
       "      <td>0.58</td>\n",
       "    </tr>\n",
       "  </tbody>\n",
       "</table>\n",
       "<p>274 rows × 4 columns</p>\n",
       "</div>"
      ],
      "text/plain": [
       "        job_title   age     salary  exp. period\n",
       "4    data analyst  27.0   450000.0         3.25\n",
       "11   data analyst  25.0   860000.0         2.92\n",
       "12   data analyst  28.0   950000.0         7.25\n",
       "15   data analyst  29.0   500000.0         6.75\n",
       "21   data analyst  22.0   500000.0         3.33\n",
       "..            ...   ...        ...          ...\n",
       "989           sql  56.0      860.0        15.25\n",
       "990           sql  32.0   645000.0        10.67\n",
       "991           sql  28.0   200000.0         6.58\n",
       "992           sql  38.0   500000.0        11.42\n",
       "994           sql  29.0  1505000.0         0.58\n",
       "\n",
       "[274 rows x 4 columns]"
      ]
     },
     "execution_count": 36,
     "metadata": {},
     "output_type": "execute_result"
    }
   ],
   "source": [
    "clean_sdf = sdf.dropna()\n",
    "clean_sdf"
   ]
  },
  {
   "cell_type": "code",
   "execution_count": 26,
   "id": "e7fc4eb4",
   "metadata": {},
   "outputs": [],
   "source": [
    "X = clean_sdf.drop('job_title', axis = 1)\n",
    "y = clean_sdf['job_title']"
   ]
  },
  {
   "cell_type": "code",
   "execution_count": 27,
   "id": "e1c51c4b",
   "metadata": {},
   "outputs": [],
   "source": [
    "from sklearn.model_selection import train_test_split\n",
    "from sklearn.naive_bayes import GaussianNB"
   ]
  },
  {
   "cell_type": "code",
   "execution_count": 28,
   "id": "de9c11d5",
   "metadata": {},
   "outputs": [],
   "source": [
    "Xtrain, Xtest, ytrain, ytest = train_test_split(X, y, train_size = 0.8, stratify=y)"
   ]
  },
  {
   "cell_type": "code",
   "execution_count": 29,
   "id": "423c288e",
   "metadata": {},
   "outputs": [
    {
     "data": {
      "text/plain": [
       "GaussianNB()"
      ]
     },
     "execution_count": 29,
     "metadata": {},
     "output_type": "execute_result"
    }
   ],
   "source": [
    "model = GaussianNB()\n",
    "model.fit(Xtrain, ytrain)"
   ]
  },
  {
   "cell_type": "code",
   "execution_count": 31,
   "id": "b44d2a32",
   "metadata": {},
   "outputs": [],
   "source": [
    "y_model = model.predict(Xtest)"
   ]
  },
  {
   "cell_type": "code",
   "execution_count": 32,
   "id": "9a7b4c8d",
   "metadata": {},
   "outputs": [
    {
     "data": {
      "text/plain": [
       "0.4909090909090909"
      ]
     },
     "execution_count": 32,
     "metadata": {},
     "output_type": "execute_result"
    }
   ],
   "source": [
    "from sklearn.metrics import accuracy_score\n",
    "accuracy_score(ytest, y_model)"
   ]
  },
  {
   "cell_type": "code",
   "execution_count": 33,
   "id": "4a3fe06d",
   "metadata": {},
   "outputs": [],
   "source": [
    "from sklearn.model_selection import cross_val_score"
   ]
  },
  {
   "cell_type": "code",
   "execution_count": 34,
   "id": "7edea576",
   "metadata": {},
   "outputs": [
    {
     "data": {
      "text/plain": [
       "array([0.5       , 0.46428571, 0.46428571, 0.5       , 0.44444444,\n",
       "       0.48148148, 0.44444444, 0.48148148, 0.44444444, 0.48148148])"
      ]
     },
     "execution_count": 34,
     "metadata": {},
     "output_type": "execute_result"
    }
   ],
   "source": [
    "scores = cross_val_score(model, X, y, cv = 10)\n",
    "scores"
   ]
  },
  {
   "cell_type": "code",
   "execution_count": 35,
   "id": "221e4469",
   "metadata": {},
   "outputs": [
    {
     "data": {
      "text/plain": [
       "0.47063492063492063"
      ]
     },
     "execution_count": 35,
     "metadata": {},
     "output_type": "execute_result"
    }
   ],
   "source": [
    "scores.mean()"
   ]
  },
  {
   "cell_type": "code",
   "execution_count": 37,
   "id": "74e763ed",
   "metadata": {},
   "outputs": [],
   "source": [
    "from sklearn.neighbors import KNeighborsClassifier"
   ]
  },
  {
   "cell_type": "code",
   "execution_count": 38,
   "id": "9ca8ef3a",
   "metadata": {},
   "outputs": [],
   "source": [
    "model_2 = KNeighborsClassifier(n_neighbors = 3)"
   ]
  },
  {
   "cell_type": "code",
   "execution_count": 39,
   "id": "d489cccc",
   "metadata": {},
   "outputs": [
    {
     "data": {
      "text/plain": [
       "KNeighborsClassifier(n_neighbors=3)"
      ]
     },
     "execution_count": 39,
     "metadata": {},
     "output_type": "execute_result"
    }
   ],
   "source": [
    "model_2.fit(Xtrain, ytrain)"
   ]
  },
  {
   "cell_type": "code",
   "execution_count": 40,
   "id": "8b10e282",
   "metadata": {},
   "outputs": [
    {
     "data": {
      "text/plain": [
       "0.8909090909090909"
      ]
     },
     "execution_count": 40,
     "metadata": {},
     "output_type": "execute_result"
    }
   ],
   "source": [
    "y2_model = model_2.predict(Xtest)\n",
    "accuracy_score(ytest, y2_model)"
   ]
  },
  {
   "cell_type": "code",
   "execution_count": 41,
   "id": "ae09f6c6",
   "metadata": {},
   "outputs": [
    {
     "data": {
      "text/plain": [
       "array([0.96428571, 0.92857143, 0.96428571, 0.92857143, 0.96296296,\n",
       "       0.92592593, 0.96296296, 0.92592593, 0.96296296, 0.88888889])"
      ]
     },
     "execution_count": 41,
     "metadata": {},
     "output_type": "execute_result"
    }
   ],
   "source": [
    "scores_2 = cross_val_score(model_2, X, y, cv = 10)\n",
    "scores_2"
   ]
  },
  {
   "cell_type": "code",
   "execution_count": 42,
   "id": "162bcdda",
   "metadata": {},
   "outputs": [
    {
     "data": {
      "text/plain": [
       "0.9415343915343917"
      ]
     },
     "execution_count": 42,
     "metadata": {},
     "output_type": "execute_result"
    }
   ],
   "source": [
    "scores_2.mean()"
   ]
  },
  {
   "cell_type": "code",
   "execution_count": null,
   "id": "51165109",
   "metadata": {},
   "outputs": [],
   "source": []
  }
 ],
 "metadata": {
  "kernelspec": {
   "display_name": "Python 3 (ipykernel)",
   "language": "python",
   "name": "python3"
  },
  "language_info": {
   "codemirror_mode": {
    "name": "ipython",
    "version": 3
   },
   "file_extension": ".py",
   "mimetype": "text/x-python",
   "name": "python",
   "nbconvert_exporter": "python",
   "pygments_lexer": "ipython3",
   "version": "3.9.12"
  }
 },
 "nbformat": 4,
 "nbformat_minor": 5
}
