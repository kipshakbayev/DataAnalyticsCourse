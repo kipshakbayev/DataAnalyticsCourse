{
 "cells": [
  {
   "cell_type": "code",
   "execution_count": 18,
   "id": "ad1e0adc",
   "metadata": {},
   "outputs": [
    {
     "name": "stdout",
     "output_type": "stream",
     "text": [
      "В Python ты можешь работать с классами\n",
      "В Python ты можешь использовать циклы\n",
      "В Python ты можешь определить операторы разветвления\n"
     ]
    }
   ],
   "source": [
    "#1\n",
    "\n",
    "with open(\"learning_python.txt\", encoding = \"utf8\") as f:\n",
    "    contents = f.read()\n",
    "       \n",
    "print(contents)\n",
    "\n"
   ]
  },
  {
   "cell_type": "code",
   "execution_count": 55,
   "id": "da3ecf40",
   "metadata": {},
   "outputs": [
    {
     "name": "stdout",
     "output_type": "stream",
     "text": [
      "В Python ты можешь определить операторы разветвления\n",
      "В Python ты можешь работать с классами\n",
      "В Python ты можешь использовать циклы\n"
     ]
    }
   ],
   "source": [
    "with open(\"learning_python.txt\", encoding = \"utf8\") as f:\n",
    "    lines = f.readlines()\n",
    "       \n",
    "print(lines[2].strip())\n",
    "print(lines[0].strip())\n",
    "print(lines[1].strip())\n"
   ]
  },
  {
   "cell_type": "code",
   "execution_count": 56,
   "id": "9c703546",
   "metadata": {},
   "outputs": [
    {
     "name": "stdout",
     "output_type": "stream",
     "text": [
      "В Python ты можешь работать с классами\n",
      "В Python ты можешь использовать циклы\n",
      "В Python ты можешь определить операторы разветвления\n"
     ]
    }
   ],
   "source": [
    "f = open(\"learning_python.txt\", encoding = \"utf8\")\n",
    "contents = f.read()\n",
    "       \n",
    "print(contents)"
   ]
  },
  {
   "cell_type": "code",
   "execution_count": 58,
   "id": "a9d06762",
   "metadata": {},
   "outputs": [
    {
     "name": "stdout",
     "output_type": "stream",
     "text": [
      "В Java ты можешь работать с классами\n",
      "В Java ты можешь использовать циклы\n",
      "В Java ты можешь определить операторы разветвления\n"
     ]
    }
   ],
   "source": [
    "#2\n",
    "\n",
    "with open(\"learning_python.txt\", encoding = \"utf8\") as f:\n",
    "    contents = f.read()\n",
    "    contents = contents.replace('Python', 'Java')\n",
    "       \n",
    "print(contents)"
   ]
  },
  {
   "cell_type": "code",
   "execution_count": 1,
   "id": "84eccae2",
   "metadata": {},
   "outputs": [
    {
     "name": "stdout",
     "output_type": "stream",
     "text": [
      "Введите имя гостя: kairat\n",
      "Приветствую вас, Kairat\n",
      "\n",
      "Введите имя гостя: kairat\n",
      "Приветствую вас, Kairat\n",
      "\n",
      "Введите имя гостя: almat\n",
      "Приветствую вас, Almat\n",
      "\n",
      "Введите имя гостя: sanzhar\n",
      "Приветствую вас, Sanzhar\n",
      "\n",
      "Введите имя гостя: aigerim\n",
      "Приветствую вас, Aigerim\n",
      "\n",
      "Введите имя гостя: quit\n"
     ]
    }
   ],
   "source": [
    "#3\n",
    "\n",
    "while True:\n",
    "    name = input('Введите имя гостя: ')\n",
    "    if name == 'quit':\n",
    "        break\n",
    "    output = f'Приветствую вас, {name.title()}\\n'    \n",
    "    print(output)\n",
    "    \n",
    "    f = open('guest_book.txt', 'a', encoding = 'utf8')\n",
    "    f.write(output)\n"
   ]
  },
  {
   "cell_type": "code",
   "execution_count": 69,
   "id": "64fdaf86",
   "metadata": {},
   "outputs": [
    {
     "name": "stdout",
     "output_type": "stream",
     "text": [
      "Введите первое число: sd\n",
      "Необходимо указать число\n"
     ]
    }
   ],
   "source": [
    "#4\n",
    "try:\n",
    "    first_number = input('Введите первое число: ')\n",
    "    first_number = int(first_number)\n",
    "    second_number = input('Введите второе число: ')\n",
    "    second_number = int(second_number)\n",
    "    \n",
    "    answer = first_number + second_number\n",
    "    \n",
    "except ValueError:\n",
    "    print('Необходимо указать число')\n",
    "else:\n",
    "    print('Результат:', answer)"
   ]
  },
  {
   "cell_type": "code",
   "execution_count": 71,
   "id": "dd58b1b9",
   "metadata": {},
   "outputs": [
    {
     "name": "stdout",
     "output_type": "stream",
     "text": [
      "Введите первое число: a\n",
      "Необходимо указать число\n",
      "Введите первое число: 1\n",
      "Введите второе число: 2\n",
      "Результат: 3\n",
      "Введите первое число: 432\n",
      "Введите второе число: dsad\n",
      "Необходимо указать число\n",
      "Введите первое число: 31232\n",
      "Введите второе число: quit\n"
     ]
    }
   ],
   "source": [
    "#5\n",
    "\n",
    "while True:\n",
    "    try:\n",
    "        first_number = (input('Введите первое число: '))\n",
    "        if first_number == 'quit':\n",
    "            break\n",
    "        else:\n",
    "            first_number = int(first_number)\n",
    "        \n",
    "        second_number = (input('Введите второе число: '))\n",
    "        if second_number == 'quit':\n",
    "            break\n",
    "        else:\n",
    "            second_number = int(second_number)\n",
    "   \n",
    "        answer = first_number + second_number\n",
    "    \n",
    "    except ValueError:\n",
    "        print('Необходимо указать число')\n",
    "    else:\n",
    "        print('Результат:', answer)\n",
    "    "
   ]
  },
  {
   "cell_type": "code",
   "execution_count": null,
   "id": "fae6cc55",
   "metadata": {},
   "outputs": [],
   "source": []
  }
 ],
 "metadata": {
  "kernelspec": {
   "display_name": "Python 3 (ipykernel)",
   "language": "python",
   "name": "python3"
  },
  "language_info": {
   "codemirror_mode": {
    "name": "ipython",
    "version": 3
   },
   "file_extension": ".py",
   "mimetype": "text/x-python",
   "name": "python",
   "nbconvert_exporter": "python",
   "pygments_lexer": "ipython3",
   "version": "3.9.12"
  }
 },
 "nbformat": 4,
 "nbformat_minor": 5
}
