{
 "cells": [
  {
   "cell_type": "code",
   "execution_count": 3,
   "id": "73054e2d",
   "metadata": {},
   "outputs": [
    {
     "name": "stdout",
     "output_type": "stream",
     "text": [
      "Получил футболку с размером S, и надписью на ней Maradonna\n"
     ]
    }
   ],
   "source": [
    "#1\n",
    "\n",
    "def make_shirt(size, text):\n",
    "    print(f\"Получил футболку с размером {size}, и надписью на ней {text}\")\n",
    "    \n",
    "make_shirt(\"S\", \"Maradonna\")"
   ]
  },
  {
   "cell_type": "code",
   "execution_count": 2,
   "id": "6ce1b69b",
   "metadata": {},
   "outputs": [
    {
     "name": "stdout",
     "output_type": "stream",
     "text": [
      "Получил футболку с размером M, и надписью на ней Pele\n"
     ]
    }
   ],
   "source": [
    "#1.2\n",
    "\n",
    "make_shirt(size = \"M\", text = \"Pele\")"
   ]
  },
  {
   "cell_type": "code",
   "execution_count": 10,
   "id": "53402464",
   "metadata": {},
   "outputs": [
    {
     "name": "stdout",
     "output_type": "stream",
     "text": [
      "Получил футболку с размером L, и надписью на ней I love Football\n",
      "Получил футболку с размером S, и надписью на ней I love Football\n",
      "Получил футболку с размером L, и надписью на ней Messi\n"
     ]
    }
   ],
   "source": [
    "#1.3\n",
    "\n",
    "def make_shirt(size = \"L\", text = \"I love Football\"):\n",
    "    print(f\"Получил футболку с размером {size}, и надписью на ней {text}\")\n",
    "    \n",
    "make_shirt()\n",
    "make_shirt(\"S\")\n",
    "make_shirt(text = \"Messi\")"
   ]
  },
  {
   "cell_type": "code",
   "execution_count": 14,
   "id": "a2d8a7bb",
   "metadata": {},
   "outputs": [
    {
     "name": "stdout",
     "output_type": "stream",
     "text": [
      "{'artist name': 'Joji', 'album name': 'Nectar'}\n",
      "{'artist name': '50 Cent', 'album name': 'Get Rich or Die Tryin'}\n",
      "{'artist name': 'Kanye West', 'album name': 'The Life of Pablo'}\n"
     ]
    }
   ],
   "source": [
    "#2\n",
    "\n",
    "def make_album(artist, album):\n",
    "    album_name = {'artist name' : artist, 'album name' : album}\n",
    "    return album_name\n",
    "\n",
    "return_make_album = make_album(\"Joji\", \"Nectar\")\n",
    "print(return_make_album)\n",
    "\n",
    "return_make_album = make_album(\"50 Cent\", \"Get Rich or Die Tryin\")\n",
    "print(return_make_album)\n",
    "\n",
    "return_make_album = make_album(\"Kanye West\", \"The Life of Pablo\")\n",
    "print(return_make_album)\n",
    "    "
   ]
  },
  {
   "cell_type": "code",
   "execution_count": 27,
   "id": "9bab5805",
   "metadata": {},
   "outputs": [
    {
     "name": "stdout",
     "output_type": "stream",
     "text": [
      "{'artist name': 'Kendrick Lamar', 'album name': 'DAMN.', 'number of tracks': None}\n",
      "{'artist name': 'Eminem', 'album name': 'Revival', 'number of tracks': 19}\n"
     ]
    }
   ],
   "source": [
    "#2.2\n",
    "\n",
    "def make_album(artist, album, tracks = None):\n",
    "    album_name = {'artist name' : artist, 'album name' : album, 'number of tracks' : tracks}\n",
    "    return album_name\n",
    "\n",
    "return_make_album = make_album(\"Kendrick Lamar\", \"DAMN.\")\n",
    "print(return_make_album)\n",
    "\n",
    "return_make_album = make_album(\"Eminem\", \"Revival\", 19)\n",
    "print(return_make_album)"
   ]
  },
  {
   "cell_type": "code",
   "execution_count": 2,
   "id": "f3720d10",
   "metadata": {},
   "outputs": [
    {
     "name": "stdout",
     "output_type": "stream",
     "text": [
      "Введите имя исполнителя: Eminem\n",
      "Введите название альбома: Revival\n",
      "{'artist name': 'Eminem', 'album name': 'Revival'}\n",
      "Введите имя исполнителя: quit\n"
     ]
    }
   ],
   "source": [
    "#2.3\n",
    "\n",
    "def make_album(artist, album):\n",
    "    album_name = {'artist name' : artist, 'album name' : album}\n",
    "    return album_name\n",
    "\n",
    "while True:\n",
    "    write_artist = input(\"Введите имя исполнителя: \")\n",
    "    if write_artist == 'quit':\n",
    "        break\n",
    "        \n",
    "    write_album = input(\"Введите название альбома: \")\n",
    "    if write_album == 'quit':\n",
    "        break\n",
    "        \n",
    "    artist_album_name = make_album(write_artist, write_album)\n",
    "    print(artist_album_name)\n",
    "    "
   ]
  },
  {
   "cell_type": "code",
   "execution_count": 2,
   "id": "102d04d6",
   "metadata": {},
   "outputs": [
    {
     "name": "stdout",
     "output_type": "stream",
     "text": [
      "hello\n",
      "wonderful\n",
      "world\n"
     ]
    }
   ],
   "source": [
    "#3\n",
    "\n",
    "def show_messages(messages):\n",
    "    for i in messages:\n",
    "        print(i)\n",
    "        \n",
    "short_messages = ['hello', 'wonderful', 'world']\n",
    "show_messages(short_messages)"
   ]
  },
  {
   "cell_type": "code",
   "execution_count": 18,
   "id": "8052f81f",
   "metadata": {},
   "outputs": [
    {
     "name": "stdout",
     "output_type": "stream",
     "text": [
      "world\n",
      "wonderful\n",
      "hello\n"
     ]
    }
   ],
   "source": [
    "#3.2\n",
    "\n",
    "def send_messages(short_messages, sent_messages):\n",
    "    while short_messages:\n",
    "        current = short_messages.pop()\n",
    "        sent_messages.append(current)\n",
    "        print(current)\n",
    "\n",
    "\n",
    "short_messages = ['hello', 'wonderful', 'world']\n",
    "sent_messages = []\n",
    "        \n",
    "send_messages(short_messages, sent_messages)\n"
   ]
  },
  {
   "cell_type": "code",
   "execution_count": 30,
   "id": "3789ba7b",
   "metadata": {},
   "outputs": [
    {
     "name": "stdout",
     "output_type": "stream",
     "text": [
      "world\n",
      "wonderful\n",
      "hello\n",
      "hello\n",
      "wonderful\n",
      "world\n"
     ]
    }
   ],
   "source": [
    "#3.3\n",
    "def send_messages(short_messages, sent_messages):\n",
    "    while short_messages:\n",
    "        current = short_messages.pop()\n",
    "        sent_messages.append(current)\n",
    "        print(current)\n",
    "\n",
    "short_messages = ['hello', 'wonderful', 'world']\n",
    "sent_messages = []\n",
    "\n",
    "      \n",
    "send_messages(short_messages[:], sent_messages)\n",
    "\n",
    "for short in short_messages:\n",
    "    print(short)\n"
   ]
  },
  {
   "cell_type": "code",
   "execution_count": 16,
   "id": "9d3f4608",
   "metadata": {},
   "outputs": [
    {
     "name": "stdout",
     "output_type": "stream",
     "text": [
      "cheeze\n",
      "tomato\n",
      "cheeze\n",
      "potato\n",
      "orange\n",
      "apple\n",
      "cheeze\n",
      "banana\n"
     ]
    }
   ],
   "source": [
    "#4\n",
    "\n",
    "def sandwich(*adds):\n",
    "    for add in adds:\n",
    "        print(add)\n",
    "        \n",
    "sandwich('cheeze', 'tomato')\n",
    "sandwich('cheeze', 'potato','orange')\n",
    "sandwich('apple', 'cheeze','banana')"
   ]
  },
  {
   "cell_type": "code",
   "execution_count": null,
   "id": "7811e461",
   "metadata": {},
   "outputs": [],
   "source": []
  },
  {
   "cell_type": "code",
   "execution_count": null,
   "id": "6a1edad0",
   "metadata": {},
   "outputs": [],
   "source": []
  }
 ],
 "metadata": {
  "kernelspec": {
   "display_name": "Python 3 (ipykernel)",
   "language": "python",
   "name": "python3"
  },
  "language_info": {
   "codemirror_mode": {
    "name": "ipython",
    "version": 3
   },
   "file_extension": ".py",
   "mimetype": "text/x-python",
   "name": "python",
   "nbconvert_exporter": "python",
   "pygments_lexer": "ipython3",
   "version": "3.9.12"
  }
 },
 "nbformat": 4,
 "nbformat_minor": 5
}
