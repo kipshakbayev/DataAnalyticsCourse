{
 "cells": [
  {
   "cell_type": "code",
   "execution_count": null,
   "id": "2c92b0f2",
   "metadata": {},
   "outputs": [],
   "source": [
    "# 1\n",
    "\n",
    "basketball_players = []\n",
    "\n",
    "basketball_players.append(\"Michael Jordan\")\n",
    "basketball_players.append(\"Kobe Bryant\")\n",
    "basketball_players.append(\"Lebron James\")\n",
    "\n",
    "print(basketball_players)\n",
    "\n",
    "print('Я бы хотел сыграть с ' + basketball_players[0])\n",
    "print('Я бы хотел сыграть с ' + basketball_players[1])\n",
    "print('Я бы хотел сыграть с ' + basketball_players[2])"
   ]
  },
  {
   "cell_type": "code",
   "execution_count": 15,
   "id": "de9f1505",
   "metadata": {},
   "outputs": [
    {
     "name": "stdout",
     "output_type": "stream",
     "text": [
      "['Айдын', 'Мадина', 'Серик', 'Берик']\n",
      "Приглашаю тебя, Айдын, на обед\n",
      "Приглашаю тебя, Мадина, на обед\n",
      "Приглашаю тебя, Серик, на обед\n",
      "Приглашаю тебя, Берик, на обед\n"
     ]
    }
   ],
   "source": [
    "# 2\n",
    "\n",
    "guest_list = []\n",
    "\n",
    "guest_list.append(\"Айдын\")\n",
    "guest_list.append(\"Мадина\")\n",
    "guest_list.append(\"Серик\")\n",
    "guest_list.append(\"Берик\")\n",
    "\n",
    "print(guest_list)\n",
    "\n",
    "message_1 = f\"Приглашаю тебя, {guest_list[0]}, на обед\"\n",
    "message_2 = f\"Приглашаю тебя, {guest_list[1]}, на обед\"\n",
    "message_3 = f\"Приглашаю тебя, {guest_list[2]}, на обед\"\n",
    "message_4 = f\"Приглашаю тебя, {guest_list[3]}, на обед\"\n",
    "\n",
    "print(message_1)\n",
    "print(message_2)\n",
    "print(message_3)\n",
    "print(message_4)"
   ]
  },
  {
   "cell_type": "code",
   "execution_count": 27,
   "id": "daba5b9c",
   "metadata": {},
   "outputs": [
    {
     "name": "stdout",
     "output_type": "stream",
     "text": [
      "['Айжан', 'Айдын', 'Алишер', 'Мадина', 'Серик', 'Берик', 'Раушан']\n"
     ]
    }
   ],
   "source": [
    "# 3\n",
    "\n",
    "guest_list.insert(0, \"Айжан\")\n",
    "guest_list.insert(2, \"Алишер\")\n",
    "guest_list.append(\"Раушан\")\n",
    "\n",
    "print(guest_list)"
   ]
  },
  {
   "cell_type": "code",
   "execution_count": 31,
   "id": "84ac8275",
   "metadata": {},
   "outputs": [
    {
     "name": "stdout",
     "output_type": "stream",
     "text": [
      "Приглашаю тебя, Айжан, на обед\n",
      "Приглашаю тебя, Айдын, на обед\n",
      "Приглашаю тебя, Алишер, на обед\n",
      "Приглашаю тебя, Мадина, на обед\n",
      "Приглашаю тебя, Серик, на обед\n",
      "Приглашаю тебя, Берик, на обед\n",
      "Приглашаю тебя, Раушан, на обед\n"
     ]
    }
   ],
   "source": [
    "message_1 = f\"Приглашаю тебя, {guest_list[0]}, на обед\"\n",
    "message_2 = f\"Приглашаю тебя, {guest_list[1]}, на обед\"\n",
    "message_3 = f\"Приглашаю тебя, {guest_list[2]}, на обед\"\n",
    "message_4 = f\"Приглашаю тебя, {guest_list[3]}, на обед\"\n",
    "message_5 = f\"Приглашаю тебя, {guest_list[4]}, на обед\"\n",
    "message_6 = f\"Приглашаю тебя, {guest_list[5]}, на обед\"\n",
    "message_7 = f\"Приглашаю тебя, {guest_list[6]}, на обед\"\n",
    "\n",
    "print(message_1)\n",
    "print(message_2)\n",
    "print(message_3)\n",
    "print(message_4)\n",
    "print(message_5)\n",
    "print(message_6)\n",
    "print(message_7)"
   ]
  },
  {
   "cell_type": "code",
   "execution_count": 44,
   "id": "9a5fb037",
   "metadata": {},
   "outputs": [
    {
     "name": "stdout",
     "output_type": "stream",
     "text": [
      "['Айжан', 'Айдын', 'Алишер', 'Мадина', 'Серик', 'Берик', 'Раушан']\n",
      "Уменьшаем список гостей\n",
      "«Сожалею об отмене приглашения, Раушан, на обед»\n",
      "«Сожалею об отмене приглашения, Берик, на обед»\n",
      "«Сожалею об отмене приглашения, Серик, на обед»\n",
      "«Сожалею об отмене приглашения, Мадина, на обед»\n",
      "«Сожалею об отмене приглашения, Алишер, на обед»\n"
     ]
    }
   ],
   "source": [
    "# 4\n",
    "\n",
    "guest_list = ['Айжан', 'Айдын', 'Алишер', 'Мадина', 'Серик', 'Берик', 'Раушан']\n",
    "print(guest_list)\n",
    "\n",
    "print(\"Уменьшаем список гостей\")\n",
    "\n",
    "removed_guest = guest_list.pop()\n",
    "print(\"«Сожалею об отмене приглашения, \" + removed_guest + \", на обед»\")\n",
    "removed_guest = guest_list.pop()\n",
    "print(\"«Сожалею об отмене приглашения, \" + removed_guest + \", на обед»\")\n",
    "removed_guest = guest_list.pop()\n",
    "print(\"«Сожалею об отмене приглашения, \" + removed_guest + \", на обед»\")\n",
    "removed_guest = guest_list.pop()\n",
    "print(\"«Сожалею об отмене приглашения, \" + removed_guest + \", на обед»\")\n",
    "removed_guest = guest_list.pop()\n",
    "print(\"«Сожалею об отмене приглашения, \" + removed_guest + \", на обед»\")"
   ]
  },
  {
   "cell_type": "code",
   "execution_count": 51,
   "id": "d2528ed0",
   "metadata": {},
   "outputs": [
    {
     "name": "stdout",
     "output_type": "stream",
     "text": [
      "['Japan', 'Brasil', 'Iceland', 'Greece', 'Australia']\n",
      "['Australia', 'Brasil', 'Greece', 'Iceland', 'Japan']\n",
      "['Japan', 'Brasil', 'Iceland', 'Greece', 'Australia']\n",
      "['Australia', 'Greece', 'Iceland', 'Brasil', 'Japan']\n"
     ]
    }
   ],
   "source": [
    "# 5\n",
    "\n",
    "country_list = ['Japan', 'Brasil', 'Iceland', 'Greece', 'Australia']\n",
    "print(country_list)\n",
    "\n",
    "print(sorted(country_list))\n",
    "\n",
    "print(country_list)\n",
    "\n",
    "country_list.reverse()\n",
    "print(country_list)"
   ]
  },
  {
   "cell_type": "code",
   "execution_count": 60,
   "id": "0b22afd3",
   "metadata": {},
   "outputs": [
    {
     "name": "stdout",
     "output_type": "stream",
     "text": [
      "ребенок\n"
     ]
    }
   ],
   "source": [
    "# 6\n",
    "\n",
    "age = 10\n",
    "\n",
    "if age < 2:\n",
    "    print(\"младенец\")\n",
    "elif age >= 2 and age < 4:\n",
    "    print(\"малыш\")\n",
    "elif age >= 4 and age < 13:\n",
    "    print(\"ребенок\")\n",
    "elif age >=13 and age < 20:\n",
    "    print(\"подросток\")\n",
    "else:\n",
    "    print(\"взрослый\")"
   ]
  },
  {
   "cell_type": "code",
   "execution_count": null,
   "id": "d91bd383",
   "metadata": {},
   "outputs": [],
   "source": []
  }
 ],
 "metadata": {
  "kernelspec": {
   "display_name": "Python 3 (ipykernel)",
   "language": "python",
   "name": "python3"
  },
  "language_info": {
   "codemirror_mode": {
    "name": "ipython",
    "version": 3
   },
   "file_extension": ".py",
   "mimetype": "text/x-python",
   "name": "python",
   "nbconvert_exporter": "python",
   "pygments_lexer": "ipython3",
   "version": "3.9.12"
  }
 },
 "nbformat": 4,
 "nbformat_minor": 5
}
