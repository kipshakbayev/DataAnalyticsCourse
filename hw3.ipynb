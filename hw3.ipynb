{
 "cells": [
  {
   "cell_type": "code",
   "execution_count": 4,
   "id": "79ddf5b5",
   "metadata": {},
   "outputs": [
    {
     "name": "stdout",
     "output_type": "stream",
     "text": [
      "Имя известного человека: Elon, фамилия: Musk, возраст: 51, место рождения: Pretoria\n"
     ]
    }
   ],
   "source": [
    "#1\n",
    "\n",
    "celebrity = {'first_name' : 'Elon',\n",
    "             'last_name' : 'Musk',\n",
    "            'age' : 51,\n",
    "            'city' : 'Pretoria'}\n",
    "print(f\"Имя известного человека: {celebrity['first_name']}, фамилия: {celebrity['last_name']}, возраст: {celebrity['age']}, место рождения: {celebrity['city']}\")"
   ]
  },
  {
   "cell_type": "code",
   "execution_count": 18,
   "id": "2b673e12",
   "metadata": {},
   "outputs": [
    {
     "name": "stdout",
     "output_type": "stream",
     "text": [
      "Любимое число Джона - 7, Олжаса - 1, Алишера - 13, Эбигейл - 6, Самал - 99\n"
     ]
    }
   ],
   "source": [
    "#2\n",
    "\n",
    "fav_number = {'Джон' : 7, 'Олжас' : 1, 'Алишер' : 13, 'Эбигейл' : 6, 'Самал' : 99}\n",
    "\n",
    "print(f\"Любимое число Джона - {fav_number['Джон']}, Олжаса - {fav_number['Олжас']}, Алишера - {fav_number['Алишер']}, Эбигейл - {fav_number['Эбигейл']}, Самал - {fav_number['Самал']}\")\n"
   ]
  },
  {
   "cell_type": "code",
   "execution_count": 22,
   "id": "b7a56ac5",
   "metadata": {},
   "outputs": [
    {
     "name": "stdout",
     "output_type": "stream",
     "text": [
      "Вид животного: dog, имя владельца: Kairat\n",
      "Вид животного: mouse, имя владельца: Akhmed\n",
      "Вид животного: cat, имя владельца: Gloria\n"
     ]
    }
   ],
   "source": [
    "#3\n",
    "\n",
    "rex = {'species' : 'dog', 'owner' : 'Kairat'}\n",
    "mickey = {'species' : 'mouse', 'owner' : 'Akhmed'}\n",
    "tom = {'species' : 'cat', 'owner' : 'Gloria'}\n",
    "\n",
    "pet_list = [rex, mickey, tom]\n",
    "\n",
    "print(f\"Вид животного: {pet_list[0]['species']}, имя владельца: {pet_list[0]['owner']}\")\n",
    "print(f\"Вид животного: {pet_list[1]['species']}, имя владельца: {pet_list[1]['owner']}\")\n",
    "print(f\"Вид животного: {pet_list[2]['species']}, имя владельца: {pet_list[2]['owner']}\")\n"
   ]
  },
  {
   "cell_type": "code",
   "execution_count": 26,
   "id": "a19c9920",
   "metadata": {},
   "outputs": [
    {
     "name": "stdout",
     "output_type": "stream",
     "text": [
      "Город Астана расположен в стране Kazakhstan, численность населения 1228800, интересный факт: город переименовывался 6 раз за всю историю\n",
      "Город Москва расположен в стране Russia, численность населения 12635466, интересный факт: самый крупный город в Европе\n",
      "Город Шанхай расположен в стране China, численность населения 24870895, интересный факт: самый густонаселенный город в мире\n"
     ]
    }
   ],
   "source": [
    "#4\n",
    "\n",
    "cities = {'Астана' : {'city' : 'Астана', 'country' : 'Kazakhstan', 'population' : 1228800, 'fact' : 'город переименовывался 6 раз за всю историю'},\n",
    "          'Москва' : {'city' : 'Москва', 'country' : 'Russia', 'population' : 12635466, 'fact' : 'самый крупный город в Европе'},\n",
    "          'Шанхай' : {'city' : 'Шанхай', 'country' : 'China', 'population' : 24870895, 'fact' : 'самый густонаселенный город в мире'}\n",
    "         }\n",
    "\n",
    "print(f\"Город {cities['Астана']['city']} расположен в стране {cities['Астана']['country']}, численность населения {cities['Астана']['population']}, интересный факт: {cities['Астана']['fact']}\")\n",
    "print(f\"Город {cities['Москва']['city']} расположен в стране {cities['Москва']['country']}, численность населения {cities['Москва']['population']}, интересный факт: {cities['Москва']['fact']}\")\n",
    "print(f\"Город {cities['Шанхай']['city']} расположен в стране {cities['Шанхай']['country']}, численность населения {cities['Шанхай']['population']}, интересный факт: {cities['Шанхай']['fact']}\")"
   ]
  },
  {
   "cell_type": "code",
   "execution_count": 29,
   "id": "a7ded775",
   "metadata": {},
   "outputs": [
    {
     "name": "stdout",
     "output_type": "stream",
     "text": [
      "Какую машину вы хотели бы взять напрокат: Cубару\n",
      "Хочу взять Cубару напрокат\n"
     ]
    }
   ],
   "source": [
    "#5\n",
    "\n",
    "message = input(\"Какую машину вы хотели бы взять напрокат: \")\n",
    "print(f\"Хочу взять {message} напрокат\")"
   ]
  },
  {
   "cell_type": "code",
   "execution_count": 34,
   "id": "c8d688e7",
   "metadata": {},
   "outputs": [
    {
     "name": "stdout",
     "output_type": "stream",
     "text": [
      "На сколько мест вы хотите забронировать стол в ресторане: 120\n",
      "Придется подождать\n"
     ]
    }
   ],
   "source": [
    "#6\n",
    "\n",
    "seats = input(\"На сколько мест вы хотите забронировать стол в ресторане: \")\n",
    "seats = int(seats)\n",
    "\n",
    "if seats > 8:\n",
    "    print(\"Придется подождать\")\n",
    "else:\n",
    "    print(\"Стол готов\")"
   ]
  },
  {
   "cell_type": "code",
   "execution_count": 39,
   "id": "ff2f5828",
   "metadata": {},
   "outputs": [
    {
     "name": "stdout",
     "output_type": "stream",
     "text": [
      "Введите число: 2001\n",
      "2001 не кратно 10\n"
     ]
    }
   ],
   "source": [
    "#7\n",
    "\n",
    "number = input(\"Введите число: \")\n",
    "number = int(number)\n",
    "\n",
    "if number % 10 == 0:\n",
    "    print(f\"{number} кратно 10\")\n",
    "else:\n",
    "    print(f\"{number} не кратно 10\")"
   ]
  },
  {
   "cell_type": "code",
   "execution_count": null,
   "id": "7bff6d7d",
   "metadata": {},
   "outputs": [],
   "source": []
  },
  {
   "cell_type": "code",
   "execution_count": null,
   "id": "040da7e6",
   "metadata": {},
   "outputs": [],
   "source": []
  }
 ],
 "metadata": {
  "kernelspec": {
   "display_name": "Python 3 (ipykernel)",
   "language": "python",
   "name": "python3"
  },
  "language_info": {
   "codemirror_mode": {
    "name": "ipython",
    "version": 3
   },
   "file_extension": ".py",
   "mimetype": "text/x-python",
   "name": "python",
   "nbconvert_exporter": "python",
   "pygments_lexer": "ipython3",
   "version": "3.9.12"
  }
 },
 "nbformat": 4,
 "nbformat_minor": 5
}
